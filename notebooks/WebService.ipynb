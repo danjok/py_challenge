{
 "metadata": {
  "name": "",
  "signature": "sha256:db8044dbac4dc2441fbe1735300cb8d66d9776263e92e3ac847defce9d9f59d5"
 },
 "nbformat": 3,
 "nbformat_minor": 0,
 "worksheets": [
  {
   "cells": [
    {
     "cell_type": "markdown",
     "metadata": {},
     "source": [
      "# REST Web Service"
     ]
    },
    {
     "cell_type": "code",
     "collapsed": false,
     "input": [
      "import web\n",
      "import pandas as pd"
     ],
     "language": "python",
     "metadata": {},
     "outputs": [],
     "prompt_number": 1
    },
    {
     "cell_type": "code",
     "collapsed": false,
     "input": [
      "data_json = pd.read_json('../datasets/output_top_cities.json', orient='records')"
     ],
     "language": "python",
     "metadata": {},
     "outputs": [],
     "prompt_number": 2
    },
    {
     "cell_type": "code",
     "collapsed": false,
     "input": [
      "len(data_json)"
     ],
     "language": "python",
     "metadata": {},
     "outputs": [
      {
       "metadata": {},
       "output_type": "pyout",
       "prompt_number": 3,
       "text": [
        "2274"
       ]
      }
     ],
     "prompt_number": 3
    },
    {
     "cell_type": "code",
     "collapsed": false,
     "input": [
      "urls = (\n",
      "    '/top_cities', 'list_top_cities',\n",
      "    '/top_cities/(.*)', 'get_top_cities'\n",
      ")"
     ],
     "language": "python",
     "metadata": {},
     "outputs": [],
     "prompt_number": 4
    },
    {
     "cell_type": "code",
     "collapsed": false,
     "input": [
      "class list_top_cities:\n",
      "    def GET(self):\n",
      "        return data_json"
     ],
     "language": "python",
     "metadata": {},
     "outputs": [],
     "prompt_number": 5
    },
    {
     "cell_type": "code",
     "collapsed": false,
     "input": [
      "class get_top_cities:\n",
      "    def GET(self, n):\n",
      "        try:\n",
      "            n=int(n)\n",
      "        except ValueError:\n",
      "            n=0\n",
      "        n = 0 if (n<0) else n\n",
      "        return data_json[:n]"
     ],
     "language": "python",
     "metadata": {},
     "outputs": [],
     "prompt_number": 6
    },
    {
     "cell_type": "code",
     "collapsed": false,
     "input": [
      "app = web.application(urls, globals())"
     ],
     "language": "python",
     "metadata": {},
     "outputs": [],
     "prompt_number": 7
    },
    {
     "cell_type": "code",
     "collapsed": false,
     "input": [
      "app.run()"
     ],
     "language": "python",
     "metadata": {},
     "outputs": []
    }
   ],
   "metadata": {}
  }
 ]
}