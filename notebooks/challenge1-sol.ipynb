{
 "metadata": {
  "name": "",
  "signature": "sha256:338eb2ce57244faeef58a4c5494f7ee2a6ba3fbe28decee5cd200b7320a39db8"
 },
 "nbformat": 3,
 "nbformat_minor": 0,
 "worksheets": [
  {
   "cells": [
    {
     "cell_type": "markdown",
     "metadata": {},
     "source": [
      "# CH1 - Count lines for datasets"
     ]
    },
    {
     "cell_type": "code",
     "collapsed": false,
     "input": [
      "import pandas as pd"
     ],
     "language": "python",
     "metadata": {},
     "outputs": [],
     "prompt_number": 1
    },
    {
     "cell_type": "markdown",
     "metadata": {},
     "source": [
      "## Read Bookings dataset"
     ]
    },
    {
     "cell_type": "code",
     "collapsed": false,
     "input": [
      "col = ['act_date           ']"
     ],
     "language": "python",
     "metadata": {},
     "outputs": [],
     "prompt_number": 2
    },
    {
     "cell_type": "code",
     "collapsed": false,
     "input": [
      "%time data = pd.read_csv('../datasets/bookings.csv', sep='^', error_bad_lines=False, warn_bad_lines=True, usecols=col)"
     ],
     "language": "python",
     "metadata": {},
     "outputs": [
      {
       "output_type": "stream",
       "stream": "stdout",
       "text": [
        "CPU times: user 27.7 s, sys: 2.57 s, total: 30.3 s\n",
        "Wall time: 2min 8s\n"
       ]
      }
     ],
     "prompt_number": 3
    },
    {
     "cell_type": "code",
     "collapsed": false,
     "input": [
      "len(data)"
     ],
     "language": "python",
     "metadata": {},
     "outputs": [
      {
       "metadata": {},
       "output_type": "pyout",
       "prompt_number": 4,
       "text": [
        "10000010"
       ]
      }
     ],
     "prompt_number": 4
    },
    {
     "cell_type": "markdown",
     "metadata": {},
     "source": [
      "## Read Searches dataset"
     ]
    },
    {
     "cell_type": "code",
     "collapsed": false,
     "input": [
      "col = ['Date']"
     ],
     "language": "python",
     "metadata": {},
     "outputs": [],
     "prompt_number": 5
    },
    {
     "cell_type": "code",
     "collapsed": false,
     "input": [
      "%time data = pd.read_csv('../datasets/searches.csv', sep='^', error_bad_lines=False, warn_bad_lines=True, usecols=col)"
     ],
     "language": "python",
     "metadata": {},
     "outputs": [
      {
       "output_type": "stream",
       "stream": "stdout",
       "text": [
        "CPU times: user 32.5 s, sys: 2.96 s, total: 35.4 s\n",
        "Wall time: 3min 14s\n"
       ]
      }
     ],
     "prompt_number": 6
    },
    {
     "cell_type": "code",
     "collapsed": false,
     "input": [
      "len(data)"
     ],
     "language": "python",
     "metadata": {},
     "outputs": [
      {
       "metadata": {},
       "output_type": "pyout",
       "prompt_number": 7,
       "text": [
        "20390198"
       ]
      }
     ],
     "prompt_number": 7
    }
   ],
   "metadata": {}
  }
 ]
}