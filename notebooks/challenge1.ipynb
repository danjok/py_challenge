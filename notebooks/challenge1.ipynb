{
 "metadata": {
  "name": "",
  "signature": "sha256:8fe870962df8715f988ae27ba07465997d82e5d8c2a288bcbec2b40da0f23ef1"
 },
 "nbformat": 3,
 "nbformat_minor": 0,
 "worksheets": [
  {
   "cells": [
    {
     "cell_type": "code",
     "collapsed": false,
     "input": [
      "import pandas as pd"
     ],
     "language": "python",
     "metadata": {},
     "outputs": [],
     "prompt_number": 1
    },
    {
     "cell_type": "code",
     "collapsed": false,
     "input": [
      "data = pd.read_csv('../datasets/bookings10_2.csv', sep='^')"
     ],
     "language": "python",
     "metadata": {},
     "outputs": [],
     "prompt_number": 2
    },
    {
     "cell_type": "code",
     "collapsed": false,
     "input": [
      "len(data)"
     ],
     "language": "python",
     "metadata": {},
     "outputs": [
      {
       "metadata": {},
       "output_type": "pyout",
       "prompt_number": 3,
       "text": [
        "100"
       ]
      }
     ],
     "prompt_number": 3
    },
    {
     "cell_type": "code",
     "collapsed": false,
     "input": [
      "data.columns"
     ],
     "language": "python",
     "metadata": {},
     "outputs": [
      {
       "metadata": {},
       "output_type": "pyout",
       "prompt_number": 4,
       "text": [
        "Index([u'act_date           ', u'source', u'pos_ctry', u'pos_iata', u'pos_oid  ', u'rloc          ', u'cre_date           ', u'duration', u'distance', u'dep_port', u'dep_city', u'dep_ctry', u'arr_port', u'arr_city', u'arr_ctry', u'lst_port', u'lst_city', u'lst_ctry', u'brd_port', u'brd_city', u'brd_ctry', u'off_port', u'off_city', u'off_ctry', u'mkt_port', u'mkt_city', u'mkt_ctry', u'intl', u'route          ', u'carrier', u'bkg_class', u'cab_class', u'brd_time           ', u'off_time           ', u'pax', u'year', u'month', u'oid      '], dtype='object')"
       ]
      }
     ],
     "prompt_number": 4
    },
    {
     "cell_type": "code",
     "collapsed": false,
     "input": [
      "data = pd.read_csv('../datasets/searches10_2.csv', sep='^')"
     ],
     "language": "python",
     "metadata": {},
     "outputs": [],
     "prompt_number": 5
    },
    {
     "cell_type": "code",
     "collapsed": false,
     "input": [
      "len(data)"
     ],
     "language": "python",
     "metadata": {},
     "outputs": [
      {
       "metadata": {},
       "output_type": "pyout",
       "prompt_number": 6,
       "text": [
        "100"
       ]
      }
     ],
     "prompt_number": 6
    },
    {
     "cell_type": "code",
     "collapsed": false,
     "input": [
      "data.columns"
     ],
     "language": "python",
     "metadata": {},
     "outputs": [
      {
       "metadata": {},
       "output_type": "pyout",
       "prompt_number": 7,
       "text": [
        "Index([u'Date', u'Time', u'TxnCode', u'OfficeID', u'Country', u'Origin', u'Destination', u'RoundTrip', u'NbSegments', u'Seg1Departure', u'Seg1Arrival', u'Seg1Date', u'Seg1Carrier', u'Seg1BookingCode', u'Seg2Departure', u'Seg2Arrival', u'Seg2Date', u'Seg2Carrier', u'Seg2BookingCode', u'Seg3Departure', u'Seg3Arrival', u'Seg3Date', u'Seg3Carrier', u'Seg3BookingCode', u'Seg4Departure', u'Seg4Arrival', u'Seg4Date', u'Seg4Carrier', u'Seg4BookingCode', u'Seg5Departure', u'Seg5Arrival', u'Seg5Date', u'Seg5Carrier', u'Seg5BookingCode', u'Seg6Departure', u'Seg6Arrival', u'Seg6Date', u'Seg6Carrier', u'Seg6BookingCode', u'From', u'IsPublishedForNeg', u'IsFromInternet', u'IsFromVista', u'TerminalID', u'InternetOffice'], dtype='object')"
       ]
      }
     ],
     "prompt_number": 7
    },
    {
     "cell_type": "code",
     "collapsed": false,
     "input": [],
     "language": "python",
     "metadata": {},
     "outputs": []
    }
   ],
   "metadata": {}
  }
 ]
}