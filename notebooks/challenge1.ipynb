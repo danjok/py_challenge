{
 "metadata": {
  "name": "",
  "signature": "sha256:05f681b4009d09339e7940035061514ec3ee0219e9d0f3ca9c353bafb763bb29"
 },
 "nbformat": 3,
 "nbformat_minor": 0,
 "worksheets": [
  {
   "cells": [
    {
     "cell_type": "code",
     "collapsed": false,
     "input": [
      "import pandas as pd"
     ],
     "language": "python",
     "metadata": {},
     "outputs": [],
     "prompt_number": 1
    },
    {
     "cell_type": "code",
     "collapsed": false,
     "input": [
      "data = pd.read_csv('../datasets/bookings10_6.csv', sep='^')"
     ],
     "language": "python",
     "metadata": {},
     "outputs": [],
     "prompt_number": 2
    },
    {
     "cell_type": "code",
     "collapsed": false,
     "input": [
      "len(data)"
     ],
     "language": "python",
     "metadata": {},
     "outputs": [
      {
       "metadata": {},
       "output_type": "pyout",
       "prompt_number": 3,
       "text": [
        "1000000"
       ]
      }
     ],
     "prompt_number": 3
    },
    {
     "cell_type": "code",
     "collapsed": false,
     "input": [
      "data.columns"
     ],
     "language": "python",
     "metadata": {},
     "outputs": [
      {
       "metadata": {},
       "output_type": "pyout",
       "prompt_number": 4,
       "text": [
        "Index([u'act_date           ', u'source', u'pos_ctry', u'pos_iata', u'pos_oid  ', u'rloc          ', u'cre_date           ', u'duration', u'distance', u'dep_port', u'dep_city', u'dep_ctry', u'arr_port', u'arr_city', u'arr_ctry', u'lst_port', u'lst_city', u'lst_ctry', u'brd_port', u'brd_city', u'brd_ctry', u'off_port', u'off_city', u'off_ctry', u'mkt_port', u'mkt_city', u'mkt_ctry', u'intl', u'route          ', u'carrier', u'bkg_class', u'cab_class', u'brd_time           ', u'off_time           ', u'pax', u'year', u'month', u'oid      '], dtype='object')"
       ]
      }
     ],
     "prompt_number": 4
    },
    {
     "cell_type": "code",
     "collapsed": false,
     "input": [],
     "language": "python",
     "metadata": {},
     "outputs": []
    }
   ],
   "metadata": {}
  }
 ]
}