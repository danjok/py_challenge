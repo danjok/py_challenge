{
 "metadata": {
  "name": "",
  "signature": "sha256:968adcccfe8b7eedf0cc36b98e01b6b8009212444963c9d2fbc9007be8a011d4"
 },
 "nbformat": 3,
 "nbformat_minor": 0,
 "worksheets": [
  {
   "cells": [
    {
     "cell_type": "code",
     "collapsed": false,
     "input": [
      "from GeoBases import GeoBase"
     ],
     "language": "python",
     "metadata": {},
     "outputs": [],
     "prompt_number": 1
    },
    {
     "cell_type": "code",
     "collapsed": false,
     "input": [
      "import pandas as pd"
     ],
     "language": "python",
     "metadata": {},
     "outputs": [],
     "prompt_number": 2
    },
    {
     "cell_type": "code",
     "collapsed": false,
     "input": [
      "cols = ['year', 'arr_port', 'pax']"
     ],
     "language": "python",
     "metadata": {},
     "outputs": [],
     "prompt_number": 3
    },
    {
     "cell_type": "code",
     "collapsed": false,
     "input": [
      "%time data = pd.read_csv('../datasets/bookings.csv', sep='^', error_bad_lines=False, warn_bad_lines=True, usecols=cols)"
     ],
     "language": "python",
     "metadata": {},
     "outputs": [
      {
       "output_type": "stream",
       "stream": "stdout",
       "text": [
        "CPU times: user 29.9 s, sys: 3.15 s, total: 33.1 s\n",
        "Wall time: 2min 21s\n"
       ]
      }
     ],
     "prompt_number": 4
    },
    {
     "cell_type": "code",
     "collapsed": false,
     "input": [
      "len(data)"
     ],
     "language": "python",
     "metadata": {},
     "outputs": [
      {
       "metadata": {},
       "output_type": "pyout",
       "prompt_number": 5,
       "text": [
        "10000010"
       ]
      }
     ],
     "prompt_number": 5
    },
    {
     "cell_type": "code",
     "collapsed": false,
     "input": [
      "%time filtered_data = data[data.year == 2013]"
     ],
     "language": "python",
     "metadata": {},
     "outputs": [
      {
       "output_type": "stream",
       "stream": "stdout",
       "text": [
        "CPU times: user 372 ms, sys: 150 ms, total: 522 ms\n",
        "Wall time: 593 ms\n"
       ]
      }
     ],
     "prompt_number": 6
    },
    {
     "cell_type": "code",
     "collapsed": false,
     "input": [
      "%time filtered_data = filtered_data[['arr_port', 'pax']]"
     ],
     "language": "python",
     "metadata": {},
     "outputs": [
      {
       "output_type": "stream",
       "stream": "stdout",
       "text": [
        "CPU times: user 127 ms, sys: 35.6 ms, total: 163 ms\n",
        "Wall time: 177 ms\n"
       ]
      }
     ],
     "prompt_number": 7
    },
    {
     "cell_type": "code",
     "collapsed": false,
     "input": [
      "%time groups = filtered_data.groupby('arr_port')"
     ],
     "language": "python",
     "metadata": {},
     "outputs": [
      {
       "output_type": "stream",
       "stream": "stdout",
       "text": [
        "CPU times: user 415 \u00b5s, sys: 426 \u00b5s, total: 841 \u00b5s\n",
        "Wall time: 788 \u00b5s\n"
       ]
      }
     ],
     "prompt_number": 8
    },
    {
     "cell_type": "code",
     "collapsed": false,
     "input": [
      "%time result = groups[['pax']].sum().sort('pax', ascending = False)"
     ],
     "language": "python",
     "metadata": {},
     "outputs": [
      {
       "output_type": "stream",
       "stream": "stdout",
       "text": [
        "CPU times: user 1.02 s, sys: 150 ms, total: 1.17 s\n",
        "Wall time: 1.27 s\n"
       ]
      }
     ],
     "prompt_number": 9
    },
    {
     "cell_type": "code",
     "collapsed": false,
     "input": [
      "geo_o = GeoBase(data='ori_por', verbose=False)"
     ],
     "language": "python",
     "metadata": {},
     "outputs": [],
     "prompt_number": 10
    },
    {
     "cell_type": "code",
     "collapsed": false,
     "input": [
      "result = result.reset_index()"
     ],
     "language": "python",
     "metadata": {},
     "outputs": [],
     "prompt_number": 11
    },
    {
     "cell_type": "code",
     "collapsed": false,
     "input": [
      "result['arr_port'] = result['arr_port'].apply(lambda s: s.strip())"
     ],
     "language": "python",
     "metadata": {},
     "outputs": [],
     "prompt_number": 12
    },
    {
     "cell_type": "code",
     "collapsed": false,
     "input": [
      "result['name'] = result['arr_port'].apply(lambda s: geo_o.get(s, 'name'))"
     ],
     "language": "python",
     "metadata": {},
     "outputs": [],
     "prompt_number": 13
    },
    {
     "cell_type": "code",
     "collapsed": false,
     "input": [
      "result[:10]"
     ],
     "language": "python",
     "metadata": {},
     "outputs": [
      {
       "html": [
        "<div style=\"max-height:1000px;max-width:1500px;overflow:auto;\">\n",
        "<table border=\"1\" class=\"dataframe\">\n",
        "  <thead>\n",
        "    <tr style=\"text-align: right;\">\n",
        "      <th></th>\n",
        "      <th>arr_port</th>\n",
        "      <th>pax</th>\n",
        "      <th>name</th>\n",
        "    </tr>\n",
        "  </thead>\n",
        "  <tbody>\n",
        "    <tr>\n",
        "      <th>0</th>\n",
        "      <td> LHR</td>\n",
        "      <td> 88809</td>\n",
        "      <td>              London Heathrow Airport</td>\n",
        "    </tr>\n",
        "    <tr>\n",
        "      <th>1</th>\n",
        "      <td> MCO</td>\n",
        "      <td> 70930</td>\n",
        "      <td>        Orlando International Airport</td>\n",
        "    </tr>\n",
        "    <tr>\n",
        "      <th>2</th>\n",
        "      <td> LAX</td>\n",
        "      <td> 70530</td>\n",
        "      <td>    Los Angeles International Airport</td>\n",
        "    </tr>\n",
        "    <tr>\n",
        "      <th>3</th>\n",
        "      <td> LAS</td>\n",
        "      <td> 69630</td>\n",
        "      <td>      Mc Carran International Airport</td>\n",
        "    </tr>\n",
        "    <tr>\n",
        "      <th>4</th>\n",
        "      <td> JFK</td>\n",
        "      <td> 66270</td>\n",
        "      <td> John F Kennedy International Airport</td>\n",
        "    </tr>\n",
        "    <tr>\n",
        "      <th>5</th>\n",
        "      <td> CDG</td>\n",
        "      <td> 64490</td>\n",
        "      <td>            Paris - Charles-de-Gaulle</td>\n",
        "    </tr>\n",
        "    <tr>\n",
        "      <th>6</th>\n",
        "      <td> BKK</td>\n",
        "      <td> 59460</td>\n",
        "      <td>                         Suvarnabhumi</td>\n",
        "    </tr>\n",
        "    <tr>\n",
        "      <th>7</th>\n",
        "      <td> MIA</td>\n",
        "      <td> 58150</td>\n",
        "      <td>          Miami International Airport</td>\n",
        "    </tr>\n",
        "    <tr>\n",
        "      <th>8</th>\n",
        "      <td> SFO</td>\n",
        "      <td> 58000</td>\n",
        "      <td>  San Francisco International Airport</td>\n",
        "    </tr>\n",
        "    <tr>\n",
        "      <th>9</th>\n",
        "      <td> DXB</td>\n",
        "      <td> 55590</td>\n",
        "      <td>          Dubai International Airport</td>\n",
        "    </tr>\n",
        "  </tbody>\n",
        "</table>\n",
        "</div>"
       ],
       "metadata": {},
       "output_type": "pyout",
       "prompt_number": 14,
       "text": [
        "  arr_port    pax                                  name\n",
        "0      LHR  88809               London Heathrow Airport\n",
        "1      MCO  70930         Orlando International Airport\n",
        "2      LAX  70530     Los Angeles International Airport\n",
        "3      LAS  69630       Mc Carran International Airport\n",
        "4      JFK  66270  John F Kennedy International Airport\n",
        "5      CDG  64490             Paris - Charles-de-Gaulle\n",
        "6      BKK  59460                          Suvarnabhumi\n",
        "7      MIA  58150           Miami International Airport\n",
        "8      SFO  58000   San Francisco International Airport\n",
        "9      DXB  55590           Dubai International Airport"
       ]
      }
     ],
     "prompt_number": 14
    },
    {
     "cell_type": "code",
     "collapsed": false,
     "input": [
      "json_output_string = result[:10].to_json(orient='records')"
     ],
     "language": "python",
     "metadata": {},
     "outputs": [],
     "prompt_number": 15
    },
    {
     "cell_type": "code",
     "collapsed": false,
     "input": [
      "json_output_string"
     ],
     "language": "python",
     "metadata": {},
     "outputs": [
      {
       "metadata": {},
       "output_type": "pyout",
       "prompt_number": 16,
       "text": [
        "'[{\"arr_port\":\"LHR\",\"pax\":88809.0,\"name\":\"London Heathrow Airport\"},{\"arr_port\":\"MCO\",\"pax\":70930.0,\"name\":\"Orlando International Airport\"},{\"arr_port\":\"LAX\",\"pax\":70530.0,\"name\":\"Los Angeles International Airport\"},{\"arr_port\":\"LAS\",\"pax\":69630.0,\"name\":\"Mc Carran International Airport\"},{\"arr_port\":\"JFK\",\"pax\":66270.0,\"name\":\"John F Kennedy International Airport\"},{\"arr_port\":\"CDG\",\"pax\":64490.0,\"name\":\"Paris - Charles-de-Gaulle\"},{\"arr_port\":\"BKK\",\"pax\":59460.0,\"name\":\"Suvarnabhumi\"},{\"arr_port\":\"MIA\",\"pax\":58150.0,\"name\":\"Miami International Airport\"},{\"arr_port\":\"SFO\",\"pax\":58000.0,\"name\":\"San Francisco International Airport\"},{\"arr_port\":\"DXB\",\"pax\":55590.0,\"name\":\"Dubai International Airport\"}]'"
       ]
      }
     ],
     "prompt_number": 16
    },
    {
     "cell_type": "code",
     "collapsed": false,
     "input": [
      "result.to_json('../datasets/output_top_cities.json', orient='records')"
     ],
     "language": "python",
     "metadata": {},
     "outputs": [],
     "prompt_number": 17
    },
    {
     "cell_type": "code",
     "collapsed": false,
     "input": [
      "data_read = pd.read_json('../datasets/output_top_cities.json', orient='records')"
     ],
     "language": "python",
     "metadata": {},
     "outputs": [],
     "prompt_number": 18
    },
    {
     "cell_type": "code",
     "collapsed": false,
     "input": [
      "len(data_read)"
     ],
     "language": "python",
     "metadata": {},
     "outputs": [
      {
       "metadata": {},
       "output_type": "pyout",
       "prompt_number": 19,
       "text": [
        "2274"
       ]
      }
     ],
     "prompt_number": 19
    },
    {
     "cell_type": "code",
     "collapsed": false,
     "input": [
      "data_read[:10]"
     ],
     "language": "python",
     "metadata": {},
     "outputs": [
      {
       "html": [
        "<div style=\"max-height:1000px;max-width:1500px;overflow:auto;\">\n",
        "<table border=\"1\" class=\"dataframe\">\n",
        "  <thead>\n",
        "    <tr style=\"text-align: right;\">\n",
        "      <th></th>\n",
        "      <th>arr_port</th>\n",
        "      <th>name</th>\n",
        "      <th>pax</th>\n",
        "    </tr>\n",
        "  </thead>\n",
        "  <tbody>\n",
        "    <tr>\n",
        "      <th>0</th>\n",
        "      <td> LHR</td>\n",
        "      <td>              London Heathrow Airport</td>\n",
        "      <td> 88809</td>\n",
        "    </tr>\n",
        "    <tr>\n",
        "      <th>1</th>\n",
        "      <td> MCO</td>\n",
        "      <td>        Orlando International Airport</td>\n",
        "      <td> 70930</td>\n",
        "    </tr>\n",
        "    <tr>\n",
        "      <th>2</th>\n",
        "      <td> LAX</td>\n",
        "      <td>    Los Angeles International Airport</td>\n",
        "      <td> 70530</td>\n",
        "    </tr>\n",
        "    <tr>\n",
        "      <th>3</th>\n",
        "      <td> LAS</td>\n",
        "      <td>      Mc Carran International Airport</td>\n",
        "      <td> 69630</td>\n",
        "    </tr>\n",
        "    <tr>\n",
        "      <th>4</th>\n",
        "      <td> JFK</td>\n",
        "      <td> John F Kennedy International Airport</td>\n",
        "      <td> 66270</td>\n",
        "    </tr>\n",
        "    <tr>\n",
        "      <th>5</th>\n",
        "      <td> CDG</td>\n",
        "      <td>            Paris - Charles-de-Gaulle</td>\n",
        "      <td> 64490</td>\n",
        "    </tr>\n",
        "    <tr>\n",
        "      <th>6</th>\n",
        "      <td> BKK</td>\n",
        "      <td>                         Suvarnabhumi</td>\n",
        "      <td> 59460</td>\n",
        "    </tr>\n",
        "    <tr>\n",
        "      <th>7</th>\n",
        "      <td> MIA</td>\n",
        "      <td>          Miami International Airport</td>\n",
        "      <td> 58150</td>\n",
        "    </tr>\n",
        "    <tr>\n",
        "      <th>8</th>\n",
        "      <td> SFO</td>\n",
        "      <td>  San Francisco International Airport</td>\n",
        "      <td> 58000</td>\n",
        "    </tr>\n",
        "    <tr>\n",
        "      <th>9</th>\n",
        "      <td> DXB</td>\n",
        "      <td>          Dubai International Airport</td>\n",
        "      <td> 55590</td>\n",
        "    </tr>\n",
        "  </tbody>\n",
        "</table>\n",
        "</div>"
       ],
       "metadata": {},
       "output_type": "pyout",
       "prompt_number": 20,
       "text": [
        "  arr_port                                  name    pax\n",
        "0      LHR               London Heathrow Airport  88809\n",
        "1      MCO         Orlando International Airport  70930\n",
        "2      LAX     Los Angeles International Airport  70530\n",
        "3      LAS       Mc Carran International Airport  69630\n",
        "4      JFK  John F Kennedy International Airport  66270\n",
        "5      CDG             Paris - Charles-de-Gaulle  64490\n",
        "6      BKK                          Suvarnabhumi  59460\n",
        "7      MIA           Miami International Airport  58150\n",
        "8      SFO   San Francisco International Airport  58000\n",
        "9      DXB           Dubai International Airport  55590"
       ]
      }
     ],
     "prompt_number": 20
    },
    {
     "cell_type": "code",
     "collapsed": false,
     "input": [
      "import requests"
     ],
     "language": "python",
     "metadata": {},
     "outputs": [],
     "prompt_number": 21
    },
    {
     "cell_type": "code",
     "collapsed": false,
     "input": [
      "r = requests.get(\"http://localhost:9000/top_cities/5\")"
     ],
     "language": "python",
     "metadata": {},
     "outputs": [],
     "prompt_number": 22
    },
    {
     "cell_type": "code",
     "collapsed": false,
     "input": [
      "r.json()"
     ],
     "language": "python",
     "metadata": {},
     "outputs": [
      {
       "metadata": {},
       "output_type": "pyout",
       "prompt_number": 23,
       "text": [
        "[{u'arr_port': u'LHR', u'name': u'London Heathrow Airport', u'pax': 88809},\n",
        " {u'arr_port': u'MCO',\n",
        "  u'name': u'Orlando International Airport',\n",
        "  u'pax': 70930},\n",
        " {u'arr_port': u'LAX',\n",
        "  u'name': u'Los Angeles International Airport',\n",
        "  u'pax': 70530},\n",
        " {u'arr_port': u'LAS',\n",
        "  u'name': u'Mc Carran International Airport',\n",
        "  u'pax': 69630},\n",
        " {u'arr_port': u'JFK',\n",
        "  u'name': u'John F Kennedy International Airport',\n",
        "  u'pax': 66270}]"
       ]
      }
     ],
     "prompt_number": 23
    },
    {
     "cell_type": "code",
     "collapsed": false,
     "input": [
      "r = requests.get(\"http://localhost:9000/top_cities/1\")"
     ],
     "language": "python",
     "metadata": {},
     "outputs": [],
     "prompt_number": 24
    },
    {
     "cell_type": "code",
     "collapsed": false,
     "input": [
      "r.json()"
     ],
     "language": "python",
     "metadata": {},
     "outputs": [
      {
       "metadata": {},
       "output_type": "pyout",
       "prompt_number": 25,
       "text": [
        "[{u'arr_port': u'LHR', u'name': u'London Heathrow Airport', u'pax': 88809}]"
       ]
      }
     ],
     "prompt_number": 25
    },
    {
     "cell_type": "code",
     "collapsed": false,
     "input": [],
     "language": "python",
     "metadata": {},
     "outputs": [],
     "prompt_number": 25
    },
    {
     "cell_type": "code",
     "collapsed": false,
     "input": [],
     "language": "python",
     "metadata": {},
     "outputs": []
    }
   ],
   "metadata": {}
  }
 ]
}