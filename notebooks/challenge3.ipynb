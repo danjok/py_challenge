{
 "metadata": {
  "name": "",
  "signature": "sha256:de876a23c2e74970462ba5b8cab3be73798ab48bf07aca0eb82bd47ce31c1be8"
 },
 "nbformat": 3,
 "nbformat_minor": 0,
 "worksheets": [
  {
   "cells": [
    {
     "cell_type": "code",
     "collapsed": false,
     "input": [
      "%pylab inline"
     ],
     "language": "python",
     "metadata": {},
     "outputs": [
      {
       "output_type": "stream",
       "stream": "stdout",
       "text": [
        "Populating the interactive namespace from numpy and matplotlib\n"
       ]
      }
     ],
     "prompt_number": 1
    },
    {
     "cell_type": "code",
     "collapsed": false,
     "input": [
      "import pandas as pd"
     ],
     "language": "python",
     "metadata": {},
     "outputs": [],
     "prompt_number": 2
    },
    {
     "cell_type": "code",
     "collapsed": false,
     "input": [
      "cols = ['Destination', 'Date']"
     ],
     "language": "python",
     "metadata": {},
     "outputs": [],
     "prompt_number": 3
    },
    {
     "cell_type": "code",
     "collapsed": false,
     "input": [
      "%time data = pd.read_csv('../datasets/searches.csv', sep='^', error_bad_lines=False, warn_bad_lines=True, usecols=cols)"
     ],
     "language": "python",
     "metadata": {},
     "outputs": [
      {
       "output_type": "stream",
       "stream": "stdout",
       "text": [
        "CPU times: user 35.1 s, sys: 3.89 s, total: 39 s\n",
        "Wall time: 1min 36s\n"
       ]
      }
     ],
     "prompt_number": 4
    },
    {
     "cell_type": "code",
     "collapsed": false,
     "input": [
      "len(data)"
     ],
     "language": "python",
     "metadata": {},
     "outputs": [
      {
       "metadata": {},
       "output_type": "pyout",
       "prompt_number": 5,
       "text": [
        "20390198"
       ]
      }
     ],
     "prompt_number": 5
    },
    {
     "cell_type": "code",
     "collapsed": false,
     "input": [
      "codes = ['MAD','AGP','BCN']"
     ],
     "language": "python",
     "metadata": {},
     "outputs": [],
     "prompt_number": 6
    },
    {
     "cell_type": "code",
     "collapsed": false,
     "input": [
      "res = pd.DataFrame({})"
     ],
     "language": "python",
     "metadata": {},
     "outputs": [],
     "prompt_number": 7
    },
    {
     "cell_type": "code",
     "collapsed": false,
     "input": [
      "for code in codes:\n",
      "    data_per_city = data[data['Destination'] == code]\n",
      "    daily = data_per_city.groupby(['Date']).count()\n",
      "    monthly = daily.groupby(lambda x : x[:7]).sum()\n",
      "    res[code] = monthly['Destination']"
     ],
     "language": "python",
     "metadata": {},
     "outputs": [],
     "prompt_number": 8
    },
    {
     "cell_type": "code",
     "collapsed": false,
     "input": [
      "res"
     ],
     "language": "python",
     "metadata": {},
     "outputs": [
      {
       "html": [
        "<div style=\"max-height:1000px;max-width:1500px;overflow:auto;\">\n",
        "<table border=\"1\" class=\"dataframe\">\n",
        "  <thead>\n",
        "    <tr style=\"text-align: right;\">\n",
        "      <th></th>\n",
        "      <th>MAD</th>\n",
        "      <th>AGP</th>\n",
        "      <th>BCN</th>\n",
        "    </tr>\n",
        "  </thead>\n",
        "  <tbody>\n",
        "    <tr>\n",
        "      <th>2013-01</th>\n",
        "      <td> 24258</td>\n",
        "      <td>  9633</td>\n",
        "      <td> 29469</td>\n",
        "    </tr>\n",
        "    <tr>\n",
        "      <th>2013-02</th>\n",
        "      <td> 22800</td>\n",
        "      <td>  8379</td>\n",
        "      <td> 28329</td>\n",
        "    </tr>\n",
        "    <tr>\n",
        "      <th>2013-03</th>\n",
        "      <td> 24681</td>\n",
        "      <td> 10659</td>\n",
        "      <td> 30552</td>\n",
        "    </tr>\n",
        "    <tr>\n",
        "      <th>2013-04</th>\n",
        "      <td> 25251</td>\n",
        "      <td>  8265</td>\n",
        "      <td> 31236</td>\n",
        "    </tr>\n",
        "    <tr>\n",
        "      <th>2013-05</th>\n",
        "      <td> 26334</td>\n",
        "      <td> 10830</td>\n",
        "      <td> 28728</td>\n",
        "    </tr>\n",
        "    <tr>\n",
        "      <th>2013-06</th>\n",
        "      <td> 22800</td>\n",
        "      <td>  7923</td>\n",
        "      <td> 26505</td>\n",
        "    </tr>\n",
        "    <tr>\n",
        "      <th>2013-07</th>\n",
        "      <td> 22971</td>\n",
        "      <td>  8892</td>\n",
        "      <td> 29241</td>\n",
        "    </tr>\n",
        "    <tr>\n",
        "      <th>2013-08</th>\n",
        "      <td> 21831</td>\n",
        "      <td>  7866</td>\n",
        "      <td> 27075</td>\n",
        "    </tr>\n",
        "    <tr>\n",
        "      <th>2013-09</th>\n",
        "      <td> 21147</td>\n",
        "      <td>  8151</td>\n",
        "      <td> 23427</td>\n",
        "    </tr>\n",
        "    <tr>\n",
        "      <th>2013-10</th>\n",
        "      <td> 22294</td>\n",
        "      <td>  6499</td>\n",
        "      <td> 20276</td>\n",
        "    </tr>\n",
        "    <tr>\n",
        "      <th>2013-11</th>\n",
        "      <td> 20272</td>\n",
        "      <td>  6384</td>\n",
        "      <td> 19824</td>\n",
        "    </tr>\n",
        "    <tr>\n",
        "      <th>2013-12</th>\n",
        "      <td> 14504</td>\n",
        "      <td>  3696</td>\n",
        "      <td> 15400</td>\n",
        "    </tr>\n",
        "  </tbody>\n",
        "</table>\n",
        "</div>"
       ],
       "metadata": {},
       "output_type": "pyout",
       "prompt_number": 9,
       "text": [
        "           MAD    AGP    BCN\n",
        "2013-01  24258   9633  29469\n",
        "2013-02  22800   8379  28329\n",
        "2013-03  24681  10659  30552\n",
        "2013-04  25251   8265  31236\n",
        "2013-05  26334  10830  28728\n",
        "2013-06  22800   7923  26505\n",
        "2013-07  22971   8892  29241\n",
        "2013-08  21831   7866  27075\n",
        "2013-09  21147   8151  23427\n",
        "2013-10  22294   6499  20276\n",
        "2013-11  20272   6384  19824\n",
        "2013-12  14504   3696  15400"
       ]
      }
     ],
     "prompt_number": 9
    },
    {
     "cell_type": "code",
     "collapsed": false,
     "input": [
      "pd.set_option('display.mpl_style', 'default')\n",
      "figsize(15, 6)\n",
      "res.plot()"
     ],
     "language": "python",
     "metadata": {},
     "outputs": [
      {
       "metadata": {},
       "output_type": "pyout",
       "prompt_number": 15,
       "text": [
        "<matplotlib.axes.AxesSubplot at 0x109c69910>"
       ]
      },
      {
       "metadata": {},
       "output_type": "display_data",
       "png": "[encoded data removed]",
       "text": [
        "<matplotlib.figure.Figure at 0x109c82710>"
       ]
      }
     ],
     "prompt_number": 15
    },
    {
     "cell_type": "code",
     "collapsed": false,
     "input": [],
     "language": "python",
     "metadata": {},
     "outputs": []
    }
   ],
   "metadata": {}
  }
 ]
}